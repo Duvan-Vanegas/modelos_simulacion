{
 "cells": [
  {
   "cell_type": "markdown",
   "metadata": {},
   "source": [
    "# Proceso iterativo para definir y modelar sistemas"
   ]
  },
  {
   "cell_type": "code",
   "execution_count": null,
   "metadata": {},
   "outputs": [],
   "source": [
    "import pandas as pd\n",
    "import numpy as np\n",
    "import matplotlib.pyplot as plt"
   ]
  },
  {
   "cell_type": "markdown",
   "metadata": {},
   "source": [
    "Como ejemplo, revisaremos el sistema de bicicletas compartidas de la clase anterior, consideraremos sus fortalezas y debilidades y lo mejoraremos gradualmente. También veremos formas de usar el modelo para comprender el comportamiento del sistema y evaluar diseños destinados a que funcione mejor."
   ]
  },
  {
   "cell_type": "markdown",
   "metadata": {},
   "source": [
    "## Metodologia Iterativa\n",
    "\n",
    "El sistema de bicicletas compartidas se modelo la clase pasada de forma extremadamente simple, pero se basa en supuestos poco realistas. Antes de continuar, tómate un momento para analizar todos los componentes que puede tener este sistema. ¿En qué supuestos se basa? Haz una lista de formas en que este modelo podría ser poco realista; es decir, ¿cuáles son las diferencias entre el modelo y el sistema real?\n",
    "\n",
    "Aquí están algunas de las diferencias de mi lista:\n",
    "\n",
    "* En el modelo, un estudiante tiene la misma probabilidad de llegar en cualquier período de un minuto. En realidad, esta probabilidad varía según la hora del día, el día de la semana, etc.\n",
    "\n",
    "* El modelo no tiene en cuenta el tiempo de viaje de una estación de bicicletas a otra.\n",
    "\n",
    "* El modelo no verifica si una bicicleta está disponible, por lo que es posible que el número de bicicletas sea negativo (como habrás notado en algunas de tus simulaciones).\n"
   ]
  },
  {
   "cell_type": "markdown",
   "metadata": {},
   "source": [
    "Para obtener un modelo y por consiguiente una simulación que entregue resultados adecuados es necesario definir correctamente el sistema y realizar algunas supocisiones iniciales. Algunas de estas suposiciones de modelado son mejores que otras. Por ejemplo, el primer supuesto podría ser razonable si simulamos el sistema por un período corto de tiempo, como una hora.\n",
    "\n",
    "El segundo supuesto no es muy realista, pero podría no afectar demasiado los resultados, dependiendo de para qué usemos el modelo. Por otro lado, el tercer supuesto parece más problemático. Sin embargo, es relativamente fácil de corregir; en este capítulo lo solucionaremos.\n",
    "\n",
    "Este proceso, que consiste en comenzar con un modelo simple, identificar los problemas más importantes y realizar mejoras graduales, se llama *metodologia iterativa para definir y modelar sistemas*.\n",
    "\n",
    "Para cualquier sistema físico o proceso real, existen muchos modelos posibles, basados en distintos supuestos y simplificaciones. A menudo se necesitan varias iteraciones para desarrollar un modelo que sea lo suficientemente bueno para el propósito previsto, pero que no sea más complicado de lo necesario.\n"
   ]
  },
  {
   "cell_type": "markdown",
   "metadata": {},
   "source": [
    "## Más de un Objeto de Estado\n",
    "\n",
    "Realicemos algunos cambios al código de la clase anterior. Primero, generalizaré las funciones que escribimos para que tomen un objeto `State` como parámetro.\n",
    "Luego, hagamos que el código sea más legible agregando documentación.\n",
    "\n",
    "Aquí está una de las funciones del capítulo anterior, `bicicleta_a_cata`:\n"
   ]
  },
  {
   "cell_type": "code",
   "execution_count": null,
   "metadata": {},
   "outputs": [],
   "source": [
    "def bicicleta_a_c4ta():\n",
    "    bikeshare_state.robledo -= 1\n",
    "    bikeshare_state.c4ta += 1"
   ]
  },
  {
   "cell_type": "markdown",
   "metadata": {},
   "source": [
    "Cuando se llama a esta función, modifica `bikeshare_state`. Mientras solo haya un objeto `State`, eso está bien, pero ¿qué pasa si existe más de un sistema de bicicletas compartidas? ¿O si queremos ejecutar más de una simulación?\n",
    "\n",
    "Esta función es más flexible si le ponemos un objeto `estado` como parámetro. \n"
   ]
  },
  {
   "cell_type": "code",
   "execution_count": null,
   "metadata": {},
   "outputs": [],
   "source": [
    "def Estado(**variables):\n",
    "    \"\"\"Contiene los valores de las variables de estado.\n",
    "\n",
    "    Args:\n",
    "        **variables: Argumentos con nombre para almacenar como variables de estado.\n",
    "\n",
    "    Returns:\n",
    "        pd.Series: Serie con las variables de estado.\n",
    "    \"\"\"\n",
    "    return pd.Series(variables, name=\"state\")\n"
   ]
  },
  {
   "cell_type": "markdown",
   "metadata": {},
   "source": [
    "Y así es como se vería:"
   ]
  },
  {
   "cell_type": "code",
   "execution_count": null,
   "metadata": {},
   "outputs": [],
   "source": [
    "def bicicleta_a_c4ta(estado):\n",
    "    estado.robledo -= 1\n",
    "    estado.c4ta += 1"
   ]
  },
  {
   "cell_type": "markdown",
   "metadata": {},
   "source": [
    "El nombre del parámetro es `estado`, en lugar de `bikeshare_state`, ya que el valor de `estado` podría ser cualquier objeto `Estado`, no solo el que llamamos `bikeshare_state`.\n",
    "\n",
    "Esta versión de `bicicleta_a_c4ta` requiere un objeto `Estado` como parámetro, por lo que debemos proporcionar uno cuando la llamemos:\n"
   ]
  },
  {
   "cell_type": "code",
   "execution_count": null,
   "metadata": {},
   "outputs": [],
   "source": [
    "bikeshare_state = Estado(robledo=10, c4ta=2)\n",
    "bicicleta_a_c4ta(bikeshare_state)"
   ]
  },
  {
   "cell_type": "markdown",
   "metadata": {},
   "source": [
    "Nuevamente, el argumento que proporcionamos se asigna al parámetro, por lo que esta llamada a la función tiene el mismo efecto que:\n",
    "\n",
    "```python\n",
    "estado = bikeshare_state\n",
    "estado.robledo -= 1 \n",
    "estado.cata += 1\n",
    "```\n",
    "\n",
    "Ahora podemos crear tantos objetos `Estado` como queramos:\n"
   ]
  },
  {
   "cell_type": "code",
   "execution_count": null,
   "metadata": {},
   "outputs": [],
   "source": [
    "bikeshare_state1 = Estado(robledo=10, c4ta=2)\n",
    "bikeshare_state2 = Estado(robledo=2, c4ta=10)"
   ]
  },
  {
   "cell_type": "markdown",
   "metadata": {},
   "source": [
    "y así poder actualizarlos de forma independiente"
   ]
  },
  {
   "cell_type": "code",
   "execution_count": null,
   "metadata": {},
   "outputs": [],
   "source": [
    "bicicleta_a_c4ta(bikeshare_state1)\n",
    "bicicleta_a_c4ta(bikeshare_state2)"
   ]
  },
  {
   "cell_type": "markdown",
   "metadata": {},
   "source": [
    "Los cambios en `bikeshare_state1` no afectan a `bikeshare_state2`, y viceversa. De este modo, podemos simular distintos sistemas de bicicletas compartidas o ejecutar múltiples simulaciones del mismo sistema.\n"
   ]
  },
  {
   "cell_type": "markdown",
   "metadata": {},
   "source": [
    "## Documentación\n",
    "\n",
    "Otro problema con el código que tenemos hasta ahora es que no contiene *documentación*.\n",
    "La documentación es texto que añadimos a un programa para ayudar a otros programadores a leerlo y entenderlo. No tiene ningún efecto en el programa cuando se ejecuta.\n",
    "\n",
    "Existen dos tipos de documentación: *docstrings* y *comentarios*:\n",
    "\n",
    "* Un docstring es una cadena entre comillas triples que aparece al inicio de una función.\n",
    "\n",
    "* Un comentario es una línea de texto que comienza con un símbolo de numeral, `#`.\n",
    "\n",
    "Aquí tienes una versión de `bicicleta_a_robledo` con un docstring y un comentario."
   ]
  },
  {
   "cell_type": "code",
   "execution_count": null,
   "metadata": {},
   "outputs": [],
   "source": [
    "def bicicleta_a_robledo(estado):\n",
    "    \"\"\"Mover una bicicleta de Wellesley a Olin.\n",
    "    \n",
    "    state: objeto State de bikeshare\n",
    "    \"\"\"\n",
    "    # Disminuimos una variable de estado y aumentamos la\n",
    "    # otra para que el número total de bicicletas no cambie.\n",
    "    estado.robledo += 1\n",
    "    estado.c4ta -= 1\n"
   ]
  },
  {
   "cell_type": "markdown",
   "metadata": {},
   "source": [
    "Los docstrings siguen un formato convencional:\n",
    "\n",
    "* La primera línea es una sola oración que describe lo que hace la función.\n",
    "\n",
    "* Las líneas siguientes explican cuáles son los parámetros.\n",
    "\n",
    "El docstring de una función debe incluir la información que alguien necesita saber para *usar* la función; no debe incluir detalles sobre cómo funciona la función.\n",
    "\n",
    "Los comentarios proporcionan detalles sobre cómo funciona la función, especialmente si hay algo que no sería obvio para alguien que esté leyendo el programa."
   ]
  },
  {
   "cell_type": "markdown",
   "metadata": {},
   "source": [
    "## Bicicletas Negativas\n",
    "\n",
    "Los cambios que hemos hecho hasta ahora mejoran la calidad del código, pero no hemos hecho nada para mejorar la calidad del modelo. Hagámoslo ahora.\n",
    "\n",
    "Actualmente, la simulación no verifica si hay una bicicleta disponible cuando llega un cliente, por lo que el número de bicicletas en una ubicación puede ser negativo. Eso no se ajusta al sistema dado que nunca puede haber un numero de bicicletas negativo.\n",
    "\n",
    "Aquí tienes una versión de `bicicleta_a_robledo` que corrige el problema:"
   ]
  },
  {
   "cell_type": "code",
   "execution_count": null,
   "metadata": {},
   "outputs": [],
   "source": [
    "def bicicleta_a_robledo(estado):\n",
    "    if estado.c4ta == 0:\n",
    "        return\n",
    "    estado.c4ta -= 1\n",
    "    estado.robledo += 1"
   ]
  },
  {
   "cell_type": "markdown",
   "metadata": {},
   "source": [
    "La primera línea verifica si el número de bicicletas en **C4TA** es cero. Si es así, utiliza una *sentencia return*, lo que hace que la función termine de inmediato, sin ejecutar el resto de las instrucciones. Por lo tanto, si no hay bicicletas en **C4TA**, salimos de `bicicleta_a_robledo` sin cambiar el estado.\n",
    "\n",
    "Podemos probarlo inicializando el estado sin bicicletas en **C4TA** y llamando a `bicicleta_a_robledo`."
   ]
  },
  {
   "cell_type": "code",
   "execution_count": null,
   "metadata": {},
   "outputs": [],
   "source": [
    "bikeshare_state = Estado(robledo=12, c4ta=0)\n",
    "bicicleta_a_robledo(bikeshare_state)"
   ]
  },
  {
   "cell_type": "markdown",
   "metadata": {},
   "source": [
    "El estado del sistema no deberia cambiar, lograndose asi que nunca halla un número de bicicletas negativas"
   ]
  },
  {
   "cell_type": "code",
   "execution_count": null,
   "metadata": {},
   "outputs": [],
   "source": [
    "print(bikeshare_state)"
   ]
  },
  {
   "cell_type": "markdown",
   "metadata": {},
   "source": [
    "## Operadores de Comparación\n",
    "\n",
    "La versión actualizada de `bicicleta_a_robledo` usa el operador de igualdad, `==`, que compara dos valores y devuelve `True` si son iguales, y `False` en caso contrario.\n",
    "\n",
    "Es fácil confundir el operador de igualdad con el operador de asignación, `=`, que asigna un valor a una variable. Por ejemplo, la siguiente instrucción crea una variable `x`, si no existe ya, y le asigna el valor `5`.\n"
   ]
  },
  {
   "cell_type": "code",
   "execution_count": null,
   "metadata": {},
   "outputs": [],
   "source": [
    "x = 8"
   ]
  },
  {
   "cell_type": "markdown",
   "metadata": {},
   "source": [
    "Por otro lado, la siguiente instrucción verifica si `x` es `5` y devuelve `True` o `False`. No crea `x` ni cambia su valor.\n"
   ]
  },
  {
   "cell_type": "code",
   "execution_count": null,
   "metadata": {},
   "outputs": [],
   "source": [
    "x == 8"
   ]
  },
  {
   "cell_type": "markdown",
   "metadata": {},
   "source": [
    "Pueden usar el operador de igualdad en una instrucción `if`, de esta manera:"
   ]
  },
  {
   "cell_type": "code",
   "execution_count": null,
   "metadata": {},
   "outputs": [],
   "source": [
    "if x == 8:\n",
    "    print('Si, x es 8')"
   ]
  },
  {
   "cell_type": "markdown",
   "metadata": {},
   "source": [
    "El operador de igualdad es uno de los *operadores de comparación* de Python; la lista completa está en la siguiente tabla.\n",
    "\n",
    "| Operación              | Símbolo |\n",
    "| ---------------------- | ------- |\n",
    "| Menor que              | `<`     |\n",
    "| Mayor que              | `>`     |\n",
    "| Menor o igual que      | `<=`    |\n",
    "| Mayor o igual que      | `>=`    |\n",
    "| Igual                  | `==`    |\n",
    "| Distinto de / No igual | `!=`    |"
   ]
  },
  {
   "cell_type": "markdown",
   "metadata": {},
   "source": [
    "## Métricas\n",
    "\n",
    "Volviendo al sistema de bicicletas compartidas, en este punto tenemos la capacidad de simular el comportamiento del sistema. Como la llegada de los clientes es aleatoria, el estado del sistema es diferente cada vez que ejecutamos una simulación. Sistemas como este se llaman aleatorios o *estocásticos*; los sistemas que hacen lo mismo cada vez que se ejecutan son *deterministas*.\n",
    "\n",
    "Supongamos que queremos usar nuestro modelo para predecir qué tan bien funcionará el sistema de bicicletas compartidas, o para diseñar un sistema que funcione mejor. Primero, tenemos que decidir qué queremos decir con “qué tan bien” y “mejor”.\n",
    "\n",
    "Desde el punto de vista del cliente, podríamos querer conocer la probabilidad de encontrar una bicicleta disponible. Desde el punto de vista del propietario del sistema, podríamos querer minimizar el número de clientes que no consiguen una bicicleta cuando la desean, o maximizar el número de bicicletas en uso. A las estadísticas como estas, que cuantifican qué tan bien funciona el sistema, se les llama *métricas*.\n",
    "\n",
    "Como ejemplo, midamos el número de clientes insatisfechos.\n",
    "Aquí tienes una versión de `bicicleta_a_robledo` que lleva el registro del número de clientes que llegan a una estación sin bicicletas:\n"
   ]
  },
  {
   "cell_type": "code",
   "execution_count": null,
   "metadata": {},
   "outputs": [],
   "source": [
    "def bicicleta_a_robledo(estado):\n",
    "    if estado.c4ta == 0:\n",
    "        estado.c4ta_vacia += 1\n",
    "        return\n",
    "    estado.c4ta -= 1\n",
    "    estado.robledo += 1"
   ]
  },
  {
   "cell_type": "markdown",
   "metadata": {},
   "source": [
    "Si un cliente llega a la estación de **C4TA** y no encuentra una bicicleta disponible, `bicicleta_a_robledo` actualiza `c4ta_vacia`, que cuenta el número de clientes insatisfechos.\n",
    "\n",
    "Esta función solo funciona si inicializamos `c4ta_vacia` cuando creamos el objeto `Estado`, de esta manera:\n"
   ]
  },
  {
   "cell_type": "code",
   "execution_count": null,
   "metadata": {},
   "outputs": [],
   "source": [
    "bikeshare_state = Estado(robledo=12, c4ta=0, \n",
    "                  c4ta_vacia=0)"
   ]
  },
  {
   "cell_type": "markdown",
   "metadata": {},
   "source": [
    "Podemos problarlo al llamar `bicicleta_a_robledo`:"
   ]
  },
  {
   "cell_type": "code",
   "execution_count": null,
   "metadata": {},
   "outputs": [],
   "source": [
    "bicicleta_a_robledo(bikeshare_state)"
   ]
  },
  {
   "cell_type": "markdown",
   "metadata": {},
   "source": [
    "Después de esta actualización, debería haber 12 bicicletas en **Robledo**, ninguna bicicleta en **C4TA** y un cliente insatisfecho."
   ]
  },
  {
   "cell_type": "code",
   "execution_count": null,
   "metadata": {},
   "outputs": [],
   "source": [
    "print(bikeshare_state)"
   ]
  },
  {
   "cell_type": "markdown",
   "metadata": {},
   "source": [
    "## Resumen\n",
    "\n",
    "hasta este momento, hemos escrito varias versiones de `bicicleta_a_robledo`:\n",
    "\n",
    "* Agregamos un parámetro, `estado`, para poder trabajar con más de un objeto `Estado`.\n",
    "\n",
    "* Añadimos un *docstring* que explica cómo usar la función y un comentario que explica cómo funciona.\n",
    "\n",
    "* Usamos un operador condicional, `==`, para verificar si hay una bicicleta disponible y así evitar bicicletas negativas.\n",
    "\n",
    "* Agregamos una variable de estado, `c4ta_empty`, para contar el número de clientes insatisfechos, que es una métrica que utilizaremos para cuantificar qué tan bien funciona el sistema.\n",
    "\n",
    "En los ejercicios, actualizarás `bicicleta_a_c4ta` de la misma manera y lo probarás ejecutando una simulación.\n",
    "\n",
    "Aquí está el código que tenemos hasta ahora, con *docstrings*, todo en un solo lugar:\n"
   ]
  },
  {
   "cell_type": "code",
   "execution_count": null,
   "metadata": {},
   "outputs": [],
   "source": [
    "def correr_simulacion(estado, p1, p2, num_pasos):\n",
    "    \"\"\"Simular el número dado de pasos de tiempo.\n",
    "    \n",
    "    state: objeto State\n",
    "    p1: probabilidad de llegada de un cliente a Robledo->C4TA\n",
    "    p2: probabilidad de llegada de un cliente a C4TA->Robledo\n",
    "    num_pass: número de pasos de tiempo\n",
    "    \"\"\"\n",
    "    results = TimeSeries()\n",
    "    results[0] = estado.robledo\n",
    "    \n",
    "    for i in range(num_pasos):\n",
    "        paso(state, p1, p2)\n",
    "        results[i+1] = estado.robledo\n",
    "        \n",
    "    results.plot(label='Robledo')\n",
    "    decorar(title='Sistema de Bicicletas Compartidas Robledo-C4TA',\n",
    "             xlabel='Paso de tiempo (min)', \n",
    "             ylabel='Número de bicicletas')\n",
    "    \n",
    "def paso(estado, p1, p2):\n",
    "    \"\"\"Simular un paso de tiempo.\n",
    "    \n",
    "    state: objeto State del sistema de bicicletas compartidas\n",
    "    p1: probabilidad de un viaje Robledo->C4TA\n",
    "    p2: probabilidad de un viaje C4TA->Robledo\n",
    "    \"\"\"\n",
    "    if lanzamiento(p1):\n",
    "        bike_to_c4ta(estado)\n",
    "    \n",
    "    if lanzamiento(p2):\n",
    "        bike_to_robledo(estado)\n",
    "\n",
    "\n",
    "def bike_to_robledo(estado):\n",
    "    \"\"\"Mover una bicicleta de C4TA a Robledo.\n",
    "    \n",
    "    state: objeto State del sistema de bicicletas compartidas\n",
    "    \"\"\"\n",
    "    if estado.c4ta == 0:\n",
    "        estado.c4ta_vacia += 1\n",
    "        return\n",
    "    estado.c4ta -= 1\n",
    "    estado.robledo += 1\n",
    "\n",
    "\n",
    "def bike_to_c4ta(estado):\n",
    "    \"\"\"Mover una bicicleta de Robledo a C4TA.\n",
    "    \n",
    "    state: objeto State del sistema de bicicletas compartidas\n",
    "    \"\"\"\n",
    "    estado.robledo -= 1\n",
    "    estado.c4ta += 1\n",
    "\n",
    "def lanzamiento(p=0.5):\n",
    "    \"\"\"Lanza una moneda con la probabilidad dada.\n",
    "\n",
    "    Args:\n",
    "        p (float): Probabilidad entre 0 y 1.\n",
    "\n",
    "    Returns:\n",
    "        bool: True o False.\n",
    "    \"\"\"\n",
    "    return np.random.random() < p\n",
    "\n",
    "def TimeSeries(*args, **kwargs):\n",
    "    \"\"\"Crear un objeto pd.Series para representar una serie temporal.\n",
    "\n",
    "    Args:\n",
    "        *args: Argumentos pasados a pd.Series.\n",
    "        **kwargs: Argumentos con nombre pasados a pd.Series.\n",
    "\n",
    "    Returns:\n",
    "        pd.Series: Serie con nombre de índice 'Time' y nombre 'Quantity'.\n",
    "    \"\"\"\n",
    "    if args or kwargs:\n",
    "        underride(kwargs, dtype=float)\n",
    "        series = pd.Series(*args, **kwargs)\n",
    "    else:\n",
    "        series = pd.Series([], dtype=float)\n",
    "\n",
    "    series.index.name = \"Time\"\n",
    "    if \"name\" not in kwargs:\n",
    "        series.name = \"Quantity\"\n",
    "    return series\n",
    "\n",
    "def underride(d, **options):\n",
    "    \"\"\"Agregar pares clave-valor a d solo si la clave no está en d.\n",
    "\n",
    "    Si d es None, crear un nuevo diccionario.\n",
    "\n",
    "    Args:\n",
    "        d (dict): Diccionario a actualizar.\n",
    "        **options: Argumentos con nombre para agregar a d.\n",
    "\n",
    "    Returns:\n",
    "        dict: Diccionario actualizado.\n",
    "    \"\"\"\n",
    "    if d is None:\n",
    "        d = {}\n",
    "\n",
    "    for key, val in options.items():\n",
    "        d.setdefault(key, val)\n",
    "\n",
    "    return d\n",
    "\n",
    "def decorar(**options):\n",
    "    \"\"\"Decora los ejes actuales.\n",
    "\n",
    "    Llama a decorar con argumentos con nombre, por ejemplo:\n",
    "    decorar(title='Título',\n",
    "                xlabel='x',\n",
    "                ylabel='y')\n",
    "\n",
    "    Los argumentos con nombre pueden ser cualquiera de las propiedades de los ejes:\n",
    "    https://matplotlib.org/api/axes_api.html\n",
    "\n",
    "    Args:\n",
    "        **options: Argumentos con nombre para las propiedades de los ejes.\n",
    "    \"\"\"\n",
    "    ax = plt.gca()\n",
    "    ax.set(**options)\n",
    "\n",
    "    handles, labels = ax.get_legend_handles_labels()\n",
    "    if handles:\n",
    "        ax.legend(handles, labels)\n",
    "\n",
    "    plt.tight_layout()\n",
    "\n",
    "def Estado(**variables):\n",
    "    \"\"\"Contiene los valores de las variables de estado.\n",
    "\n",
    "    Args:\n",
    "        **variables: Argumentos con nombre para almacenar como variables de estado.\n",
    "\n",
    "    Returns:\n",
    "        pd.Series: Serie con las variables de estado.\n",
    "    \"\"\"\n",
    "    return pd.Series(variables, name=\"state\")\n"
   ]
  },
  {
   "cell_type": "markdown",
   "metadata": {},
   "source": [
    "### Ejercicio 1\n",
    "\n",
    "Modifica `bicicleta_a_c4ta` para que verifique si hay una bicicleta disponible en **Robledo**.\n",
    "Si no la hay, debe sumar `1` a `robledo_vacia`.\n",
    "\n",
    "Para probarlo, crea un `Estado` que inicialice `robledo` y `robledo_vacia` en `0`, ejecuta `bicicleta_a_c4ta` y revisa el resultado.\n"
   ]
  },
  {
   "cell_type": "code",
   "execution_count": null,
   "metadata": {},
   "outputs": [],
   "source": [
    "# Solución aqui"
   ]
  },
  {
   "cell_type": "markdown",
   "metadata": {},
   "source": [
    "### Ejercicio 2\n",
    "\n",
    "Ahora ejecuta la simulación con los parámetros `p1=0.3`, `p2=0.2` y `num_pasos=60`, y confirma que el número de bicicletas nunca sea negativo.\n",
    "\n",
    "Comienza con este estado inicial:\n"
   ]
  },
  {
   "cell_type": "code",
   "execution_count": null,
   "metadata": {},
   "outputs": [],
   "source": [
    "bikeshare_state = Estado(robledo=20, c4ta=10,\n",
    "                  robledo_vacia=0, c4ta_vacia=0)"
   ]
  },
  {
   "cell_type": "code",
   "execution_count": null,
   "metadata": {},
   "outputs": [],
   "source": [
    "# Solución aqui"
   ]
  }
 ],
 "metadata": {
  "language_info": {
   "name": "python"
  },
  "orig_nbformat": 4
 },
 "nbformat": 4,
 "nbformat_minor": 2
}
